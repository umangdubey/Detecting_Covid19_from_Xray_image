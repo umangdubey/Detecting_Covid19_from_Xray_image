{
 "cells": [
  {
   "cell_type": "code",
   "execution_count": null,
   "metadata": {},
   "outputs": [],
   "source": [
    "import pandas as pd\n",
    "import os\n",
    "import shutil"
   ]
  },
  {
   "cell_type": "code",
   "execution_count": null,
   "metadata": {},
   "outputs": [],
   "source": [
    "FILE_PATH=\"metadata.csv\"\n",
    "IMAGE_PATH =\"images\""
   ]
  },
  {
   "cell_type": "code",
   "execution_count": null,
   "metadata": {},
   "outputs": [],
   "source": [
    "df = pd.read_csv(FILE_PATH)"
   ]
  },
  {
   "cell_type": "code",
   "execution_count": null,
   "metadata": {},
   "outputs": [],
   "source": [
    "df.head"
   ]
  },
  {
   "cell_type": "code",
   "execution_count": null,
   "metadata": {},
   "outputs": [],
   "source": [
    "TARGET_DIR=\"CovidDataset\"\n",
    "if not os.path.exists(TARGET_DIR):\n",
    "    os.mkdir(TARGET_DIR)\n",
    "    print(\"data folder created\")"
   ]
  },
  {
   "cell_type": "code",
   "execution_count": null,
   "metadata": {},
   "outputs": [],
   "source": [
    "cnt= 0 \n",
    "for (i,row) in df,iterrows():   #PA means front view of xray\n",
    "    if row[\"finding\"]==\"COVID19\" and row['view']=='PA':\n",
    "        filename=row[\"filename\"]\n",
    "        image_path=os.path.join(IMAGES_PATH,filename)\n",
    "        image_copy_path = os.path.join(TARGET_DIR,filename)\n",
    "        \n",
    "        shutil.copy2(image_path,image_copy_path)\n",
    "        print(\"xopy image \",cnt)\n",
    "        cnt+=1\n",
    "        \n",
    "        \n",
    "print(cnt)"
   ]
  },
  {
   "cell_type": "code",
   "execution_count": null,
   "metadata": {},
   "outputs": [],
   "source": [
    "#from kaggle normal dataset need to copy\n",
    "\n",
    "import random \n",
    "KAGGLE_FILE_PATH= 'NORMAL'\n",
    "TARGET_NORMAL_DIR = \"Normal\"\n",
    "\n",
    "\n",
    "image_names = os.listdir(KAGGLE_FILE_PATH)\n",
    "print(image_names)\n",
    "\n",
    "\n"
   ]
  },
  {
   "cell_type": "code",
   "execution_count": null,
   "metadata": {},
   "outputs": [],
   "source": [
    "random.shuffle(image_names)\n",
    "\n",
    "for i in range(142):\n",
    "    image_name=image_names[i]\n",
    "    image_path=os.path.join(KAGGLE_FILE_PATH,image_name)\n",
    "    target_path = os.path.join(TARGET_NORMAL_DIR,image_name)\n",
    "    \n",
    "    shutil.copy2(image_path,target_path)\n",
    "    print(\"Copying image\",i)"
   ]
  },
  {
   "cell_type": "code",
   "execution_count": null,
   "metadata": {},
   "outputs": [],
   "source": []
  },
  {
   "cell_type": "code",
   "execution_count": null,
   "metadata": {},
   "outputs": [],
   "source": []
  },
  {
   "cell_type": "code",
   "execution_count": null,
   "metadata": {},
   "outputs": [],
   "source": []
  }
 ],
 "metadata": {
  "kernelspec": {
   "display_name": "Python 3",
   "language": "python",
   "name": "python3"
  },
  "language_info": {
   "codemirror_mode": {
    "name": "ipython",
    "version": 3
   },
   "file_extension": ".py",
   "mimetype": "text/x-python",
   "name": "python",
   "nbconvert_exporter": "python",
   "pygments_lexer": "ipython3",
   "version": "3.7.6"
  }
 },
 "nbformat": 4,
 "nbformat_minor": 4
}
